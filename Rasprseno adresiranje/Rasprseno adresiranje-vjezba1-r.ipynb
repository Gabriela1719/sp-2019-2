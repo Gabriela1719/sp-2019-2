{
 "cells": [
  {
   "attachments": {
    "image.png": {
     "image/png": "[encoded data removed]"
    }
   },
   "cell_type": "markdown",
   "metadata": {},
   "source": [
    "# Raspršeno adresiranje\n",
    "\n",
    "### Upisivanje zapisa u pretince tablice raspršenih adresa\n",
    "\n",
    "![image.png](attachment:image.png)"
   ]
  },
  {
   "cell_type": "code",
   "execution_count": 1,
   "metadata": {},
   "outputs": [],
   "source": [
    "#include <iostream>\n",
    "#include <stdio.h>\n",
    "#include <stdlib.h>\n",
    "#include <string.h>\n",
    "#include <math.h>\n",
    "using namespace std;"
   ]
  },
  {
   "cell_type": "code",
   "execution_count": 2,
   "metadata": {},
   "outputs": [],
   "source": [
    "FILE *f=NULL;\n",
    "const char *ime_datoteke = NULL;"
   ]
  },
  {
   "cell_type": "markdown",
   "metadata": {},
   "source": [
    "**Parametri**"
   ]
  },
  {
   "cell_type": "code",
   "execution_count": 3,
   "metadata": {},
   "outputs": [],
   "source": [
    "typedef struct {\n",
    "    int sifra;\n",
    "    char naziv[50 + 1];\n",
    "    float cijena;\n",
    "}zapis;"
   ]
  },
  {
   "cell_type": "code",
   "execution_count": 4,
   "metadata": {},
   "outputs": [],
   "source": [
    "#define MAXZAPIS 100\n",
    "#define BLOK 512\n",
    "#define C ((int)(BLOK/sizeof(zapis)))\n",
    "const int M = (int)((MAXZAPIS/C)*1.3);"
   ]
  },
  {
   "cell_type": "code",
   "execution_count": 5,
   "metadata": {},
   "outputs": [],
   "source": [
    "void print(zapis tmp){\n",
    "    cout << \"(\"\n",
    "        << tmp.sifra << \", \"\n",
    "        << tmp.naziv << \", \"\n",
    "        << (float)tmp.cijena << \")\\n\";\n",
    "}"
   ]
  },
  {
   "cell_type": "code",
   "execution_count": 6,
   "metadata": {},
   "outputs": [],
   "source": [
    "int upis(FILE *f, int adr, zapis pom)\n",
    "{\n",
    "    zapis pretinac[C];\n",
    "    int poc = adr;\n",
    "    int i;\n",
    "    i = poc;\n",
    "    do {\n",
    "        fseek(f, i * BLOK, SEEK_SET);\n",
    "        fread(pretinac, sizeof(pretinac), 1, f);\n",
    "        for (int j = 0; j < C; j++) {\n",
    "            if (pretinac[j].sifra == pom.sifra) {\n",
    "                cout << \"Podatak postoji: \" << pom.sifra << \"\\n\";\n",
    "                return 0;\n",
    "            }if (pretinac[j].sifra == 0) {\n",
    "                pretinac[j] = pom;\n",
    "                fseek(f, i * BLOK, SEEK_SET);\n",
    "                fwrite(pretinac, sizeof(pretinac), 1, f);\n",
    "                cout << \"M=\" << setw(2) << left << i << \" C=\" << setw(2) << left << j << \"-> \";\n",
    "                print(pom);\n",
    "                return 1;\n",
    "            }\n",
    "        }\n",
    "        i = (i + 1) % M;\n",
    "    } while (i != poc);\n",
    "    return 0;\n",
    "}"
   ]
  },
  {
   "cell_type": "code",
   "execution_count": 7,
   "metadata": {},
   "outputs": [],
   "source": [
    "int adresa(int sifra) {\n",
    "    return sifra % M;\n",
    "}"
   ]
  },
  {
   "cell_type": "code",
   "execution_count": 8,
   "metadata": {},
   "outputs": [
    {
     "name": "stdout",
     "output_type": "stream",
     "text": [
      "(203, Kingmax DIMM 1GB DDR2 800MHz 240-pin, 137)\n"
     ]
    }
   ],
   "source": [
    "{\n",
    "    FILE *f = fopen(\"artikli.txt\", \"r+\");\n",
    "    zapis pom;\n",
    "    fscanf(f,\"%d,%[^,],%f\", &pom.sifra, pom.naziv, &pom.cijena);\n",
    "    print(pom);\n",
    "    fclose(f);\n",
    "}"
   ]
  },
  {
   "cell_type": "markdown",
   "metadata": {},
   "source": [
    "**Prebaci podatke u neformatiranu datoteku  \"mjesta.dat\"**"
   ]
  },
  {
   "cell_type": "code",
   "execution_count": 9,
   "metadata": {},
   "outputs": [],
   "source": [
    "FILE *prepisi()\n",
    "{\n",
    "    FILE *fin = fopen(\"artikli.txt\", \"r+\");\n",
    "    \n",
    "    f = fopen(\"artikli.dat\", \"wb+\");\n",
    "    \n",
    "    int adr, br=0;\n",
    "    int poc, i;\n",
    "    zapis pom;\n",
    "    zapis pret[C];\n",
    "    \n",
    "    // Format\n",
    "    for (int j = 0; j < C; j++)\n",
    "        pret[j].sifra = 0;\n",
    "    for (int i = 0; i < M; i++)\n",
    "    {\n",
    "        fseek(f, i*BLOK, SEEK_SET);\n",
    "        fwrite(pret, sizeof(pret), 1, f);\n",
    "    }\n",
    "\n",
    "    // Prebaci podatke\n",
    "    while(fscanf(fin,\"%d,%[^,],%f\",&pom.sifra, pom.naziv, &pom.cijena) != EOF){\n",
    "        adr = adresa(pom.sifra);\n",
    "        if(upis(f, adr, pom) == 1)\n",
    "            br++;\n",
    "    }\n",
    "    \n",
    "    fclose(fin);\n",
    "\n",
    "    cout << \"Ukupno: \" << br;\n",
    "    \n",
    "    return f;\n",
    "}"
   ]
  },
  {
   "cell_type": "markdown",
   "metadata": {},
   "source": [
    "**Tablica raspršenih adresa**"
   ]
  },
  {
   "cell_type": "code",
   "execution_count": 10,
   "metadata": {},
   "outputs": [],
   "source": [
    "void ispis(FILE *f)\n",
    "{\n",
    "    zapis pret[C];   \n",
    "    cout << setw(6) << \" \";\n",
    "    for (int i=0; i<C; i++)\n",
    "        cout << \"C=\" << setw(3) << i;\n",
    "    cout << \"\\n\";\n",
    "    for (int i=0; i<M; i++){\n",
    "        fseek(f,i*BLOK, SEEK_SET);\n",
    "        fread(pret,sizeof(zapis)*C,1,f);\n",
    "        cout << \"M=\" << setw(4) << left << i;\n",
    "        for(int j=0; j<C; j++)\n",
    "            cout << setw(5)<<pret[j].sifra;\n",
    "        cout <<\"\\n\";\n",
    "    }\n",
    "}"
   ]
  },
  {
   "cell_type": "code",
   "execution_count": 12,
   "metadata": {},
   "outputs": [
    {
     "name": "stderr",
     "output_type": "stream",
     "text": [
      "\u001b[1minput_line_19:2:6: \u001b[0m\u001b[0;1;31merror: \u001b[0m\u001b[1massigning to 'FILE *' (aka '__sFILE *') from incompatible type 'void'\u001b[0m\n",
      " f = prepisi();\n",
      "\u001b[0;1;32m     ^~~~~~~~~\n",
      "\u001b[0m"
     ]
    },
    {
     "ename": "Interpreter Error",
     "evalue": "",
     "output_type": "error",
     "traceback": [
      "Interpreter Error: "
     ]
    }
   ],
   "source": [
    "f = prepisi();"
   ]
  },
  {
   "cell_type": "markdown",
   "metadata": {},
   "source": [
    "### Zadatak 1.\n",
    "Napisati funkciju koja će u neformatiranoj datoteci **artikli** organiziranoj po načelu raspršenog adresiranja prebrojiti koliko ima upisanih zapisa o artiklima. \n",
    "- BLOK - Veličina bloka\n",
    "- C - broj zapisa u jednom pretincu\n",
    "- M - broj pretinaca\n",
    "\n",
    "Prototip funkcije:\n",
    "> **int** brojzapisa(**FILE** *f)"
   ]
  },
  {
   "cell_type": "code",
   "execution_count": 23,
   "metadata": {},
   "outputs": [
    {
     "data": {
      "text/plain": [
       "33"
      ]
     },
     "execution_count": 23,
     "metadata": {},
     "output_type": "execute_result"
    }
   ],
   "source": [
    "int brojzapisa(FILE *f);\n",
    "{   \n",
    "    //Ovdje pisati kod\n",
    "    zapis pret[C];\n",
    "    int br=0;\n",
    "    for(int i=0; i<M; i++){\n",
    "        fseek(f, i * BLOK, SEEK_SET);\n",
    "        fread(&pret, sizeof(zapis) * C, 1, f);\n",
    "        for(int j=0; j<C; j++)\n",
    "           if(pret[j].sifra != 0)\n",
    "                br++;\n",
    "    }\n",
    "    return br;\n",
    "}"
   ]
  },
  {
   "cell_type": "markdown",
   "metadata": {},
   "source": [
    "### Zadatak 2.\n",
    "Napisati funkciju koja će u neformatiranoj datoteci organiziranoj po načelu raspršenog adresiranja odrediti gustoću pakiranja.\n",
    "\n",
    "- BLOK - Veličina bloka\n",
    "- C - broj zapisa u jednom pretincu\n",
    "- M - broj pretinaca\n",
    "\n",
    "**Prototip funkcije:**\n",
    "> **float** gustoca (**const char** *ime_datoteke);"
   ]
  },
  {
   "cell_type": "code",
   "execution_count": 24,
   "metadata": {},
   "outputs": [
    {
     "data": {
      "text/plain": [
       "0.275f"
      ]
     },
     "execution_count": 24,
     "metadata": {},
     "output_type": "execute_result"
    }
   ],
   "source": [
    "float gustoca(FILE *f);\n",
    "{\n",
    "    int br=0;\n",
    "    zapis pret[C];\n",
    "    \n",
    "    for(int i=0; i<M; i++){\n",
    "        fseek(f, i * BLOK, SEEK_SET);\n",
    "        fread(&pret, sizeof(zapis) * C, 1, f);\n",
    "        for(int j=0; j<C; j++)\n",
    "           if(pret[j].sifra != 0)\n",
    "                br++;\n",
    "    }\n",
    "    return (float)br/(M*C);\n",
    "}"
   ]
  },
  {
   "cell_type": "markdown",
   "metadata": {},
   "source": [
    "### Zadatak 3.\n",
    "\n",
    "Napisati funkciju za pražnjenje neformatirane datoteke artikli organizirane po načelu raspršenog adresiranja."
   ]
  },
  {
   "cell_type": "code",
   "execution_count": 25,
   "metadata": {},
   "outputs": [],
   "source": [
    "void format(FILE *f);\n",
    "{\n",
    "    zapis pom[C];\n",
    "\n",
    "    for (int j = 0; j < C; j++)\n",
    "        pom[j].sifra = 0;\n",
    "\n",
    "    for (int i = 0; i < M; i++)\n",
    "    {\n",
    "        fseek(f, i*BLOK, SEEK_SET);\n",
    "        fwrite(pom, sizeof(pom), 1, f);\n",
    "    }\n",
    "}"
   ]
  },
  {
   "cell_type": "markdown",
   "metadata": {},
   "source": [
    "**Ispis**"
   ]
  },
  {
   "cell_type": "code",
   "execution_count": 26,
   "metadata": {},
   "outputs": [
    {
     "name": "stdout",
     "output_type": "stream",
     "text": [
      "      C=0  C=1  C=2  C=3  C=4  C=5  C=6  C=7  \n",
      "M=0   0    0    0    0    0    0    0    0    \n",
      "M=1   0    0    0    0    0    0    0    0    \n",
      "M=2   0    0    0    0    0    0    0    0    \n",
      "M=3   0    0    0    0    0    0    0    0    \n",
      "M=4   0    0    0    0    0    0    0    0    \n",
      "M=5   0    0    0    0    0    0    0    0    \n",
      "M=6   0    0    0    0    0    0    0    0    \n",
      "M=7   0    0    0    0    0    0    0    0    \n",
      "M=8   0    0    0    0    0    0    0    0    \n",
      "M=9   0    0    0    0    0    0    0    0    \n",
      "M=10  0    0    0    0    0    0    0    0    \n",
      "M=11  0    0    0    0    0    0    0    0    \n",
      "M=12  0    0    0    0    0    0    0    0    \n",
      "M=13  0    0    0    0    0    0    0    0    \n",
      "M=14  0    0    0    0    0    0    0    0    \n"
     ]
    }
   ],
   "source": [
    "print(f);"
   ]
  },
  {
   "cell_type": "code",
   "execution_count": null,
   "metadata": {},
   "outputs": [],
   "source": []
  }
 ],
 "metadata": {
  "kernelspec": {
   "display_name": "C++14",
   "language": "C++14",
   "name": "xcpp14"
  },
  "language_info": {
   "codemirror_mode": "text/x-c++src",
   "file_extension": ".cpp",
   "mimetype": "text/x-c++src",
   "name": "c++",
   "version": "-std=c++14"
  }
 },
 "nbformat": 4,
 "nbformat_minor": 2
}
