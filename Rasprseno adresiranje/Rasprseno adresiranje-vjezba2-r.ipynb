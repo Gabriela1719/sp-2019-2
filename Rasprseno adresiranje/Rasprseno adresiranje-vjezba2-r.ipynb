{
 "cells": [
  {
   "cell_type": "code",
   "execution_count": 1,
   "metadata": {},
   "outputs": [],
   "source": [
    "#include <iostream>\n",
    "#include <stdio.h>\n",
    "#include <stdlib.h>\n",
    "#include <string.h>\n",
    "#include <math.h>\n",
    "using namespace std;"
   ]
  },
  {
   "cell_type": "code",
   "execution_count": 2,
   "metadata": {},
   "outputs": [],
   "source": [
    "#define MAX 500"
   ]
  },
  {
   "cell_type": "code",
   "execution_count": 3,
   "metadata": {},
   "outputs": [],
   "source": [
    "typedef struct {\n",
    "    int sifra;\n",
    "    char naziv[20 + 1];\n",
    "}zapis;"
   ]
  },
  {
   "cell_type": "code",
   "execution_count": 4,
   "metadata": {},
   "outputs": [],
   "source": [
    "void print(zapis tmp){\n",
    "    cout << tmp.sifra << \", \"\n",
    "        << tmp.naziv << \"\\n\";\n",
    "}"
   ]
  },
  {
   "cell_type": "code",
   "execution_count": 5,
   "metadata": {},
   "outputs": [],
   "source": [
    "int adresa(int sifra) {\n",
    "    return sifra % MAX;\n",
    "}"
   ]
  },
  {
   "cell_type": "code",
   "execution_count": 6,
   "metadata": {},
   "outputs": [],
   "source": [
    "void print(zapis tablica[]){\n",
    "    // Ispis tablice\n",
    "    for (int i=0; i<MAX;i++)\n",
    "        if(tablica[i].sifra != 0){\n",
    "            cout << setw(4) << i << \"->  \";\n",
    "            print(tablica[i]);\n",
    "        }\n",
    "}"
   ]
  },
  {
   "cell_type": "markdown",
   "metadata": {},
   "source": [
    "**Memorijski rezidentna tablica**"
   ]
  },
  {
   "cell_type": "code",
   "execution_count": 7,
   "metadata": {},
   "outputs": [],
   "source": [
    "zapis tablica[MAX];"
   ]
  },
  {
   "cell_type": "markdown",
   "metadata": {},
   "source": [
    "### 3. Zadatak\n",
    "Napisati funkciju za upis **šifre** (cijeli broj) i **naziva** (20+1) u memorijski rezidentnu tablicu raspršenih adresa s **500 pretinaca**. Pretinac sadrži jedan zapis. Ako je pretinac popunjen, prelazi se **ciklički** na susjedni. Ulazni argumenti su već izračunata adresa pretinca, šifra i naziv. Funkcija vraća vrijednost 1 ako je upis obavljen, 0 ako podatak već postoji, a -1 ako je tablica popunjena pa se podatak nije mogao upisati.\n"
   ]
  },
  {
   "cell_type": "code",
   "execution_count": 8,
   "metadata": {},
   "outputs": [],
   "source": [
    "int adr;\n",
    "int sifra;\n",
    "const char *naziv;"
   ]
  },
  {
   "cell_type": "code",
   "execution_count": 9,
   "metadata": {},
   "outputs": [],
   "source": [
    "adr = 6;\n",
    "sifra = 107;\n",
    "naziv = \"artikal\";"
   ]
  },
  {
   "cell_type": "code",
   "execution_count": 10,
   "metadata": {},
   "outputs": [],
   "source": [
    "int upis(int adr, int sifra, const char *naziv)\n",
    "{\n",
    "    zapis tmp;\n",
    "    tmp.sifra = sifra;\n",
    "    strcpy(tmp.naziv,naziv);\n",
    "    tablica[adr] = tmp;\n",
    "    return 1;\n",
    "}"
   ]
  },
  {
   "cell_type": "code",
   "execution_count": 11,
   "metadata": {},
   "outputs": [
    {
     "name": "stdout",
     "output_type": "stream",
     "text": [
      "   6->  102, dsdsd\n"
     ]
    }
   ],
   "source": [
    "upis(6, 102, \"dsdsd\");\n",
    "print(tablica);"
   ]
  },
  {
   "cell_type": "markdown",
   "metadata": {},
   "source": [
    "### 4. Zadatak\n",
    "\n",
    "Napisati funkciju za pronalaženje **šifre** (cijeli broj) i **naziva ** (20+1) iz memorijski rezidentne tablice raspršenih adresa s **200 pretinaca**. Pretinac sadrži jedan zapis. Ako je pretinac popunjen, a ne sadrži traženu vrijednost ključa, prelazi se ciklički na susjedni. Ulazni argumenti su već izračunata adresa pretinca i šifra. Izlazni argument je naziv poduzeća. Funkcija vraća vrijednost 1 ako je zapis pronađen, a 0 ako nije.\n"
   ]
  },
  {
   "cell_type": "code",
   "execution_count": 12,
   "metadata": {},
   "outputs": [],
   "source": [
    "adr = 6;\n",
    "sifra = 101;"
   ]
  },
  {
   "cell_type": "code",
   "execution_count": 13,
   "metadata": {},
   "outputs": [
    {
     "name": "stdout",
     "output_type": "stream",
     "text": [
      "6"
     ]
    }
   ],
   "source": [
    "int pronadji(int adr, int sifra);\n",
    "{\n",
    "    cout << adr;\n",
    "}"
   ]
  },
  {
   "cell_type": "code",
   "execution_count": null,
   "metadata": {},
   "outputs": [],
   "source": []
  },
  {
   "cell_type": "code",
   "execution_count": null,
   "metadata": {},
   "outputs": [],
   "source": []
  }
 ],
 "metadata": {
  "kernelspec": {
   "display_name": "C++14",
   "language": "C++14",
   "name": "xcpp14"
  },
  "language_info": {
   "codemirror_mode": "text/x-c++src",
   "file_extension": ".cpp",
   "mimetype": "text/x-c++src",
   "name": "c++",
   "version": "-std=c++14"
  }
 },
 "nbformat": 4,
 "nbformat_minor": 2
}
