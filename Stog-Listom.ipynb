{
 "cells": [
  {
   "cell_type": "markdown",
   "metadata": {},
   "source": [
    "# Realizacija stoga listom"
   ]
  },
  {
   "cell_type": "code",
   "execution_count": null,
   "metadata": {},
   "outputs": [],
   "source": [
    "#include <iostream>\n",
    "#include <stdio.h>\n",
    "#include <stdlib.h>\n",
    "#include <string.h>\n",
    "#include <math.h>\n",
    "using namespace std;"
   ]
  },
  {
   "cell_type": "code",
   "execution_count": null,
   "metadata": {},
   "outputs": [],
   "source": [
    "typedef struct c {\n",
    "    int broj;\n",
    "    struct c *sljed;\n",
    "}cvor;\n",
    "\n",
    "typedef struct {\n",
    "    cvor *vrh;\n",
    "}Stog;"
   ]
  },
  {
   "cell_type": "code",
   "execution_count": null,
   "metadata": {},
   "outputs": [],
   "source": [
    "cvor *novicvor(int broj) {\n",
    "\tcvor *pom = (cvor *)malloc(sizeof(cvor));\n",
    "\tif (pom == NULL)\n",
    "\t\treturn NULL;\n",
    "\tpom->broj = broj;\n",
    "\tpom->sljed = 0;\n",
    "\treturn pom;\n",
    "}"
   ]
  },
  {
   "cell_type": "code",
   "execution_count": null,
   "metadata": {},
   "outputs": [],
   "source": [
    "int init(Stog *stog) {\n",
    "\tstog->vrh = NULL;\n",
    "\treturn 1;\n",
    "}"
   ]
  },
  {
   "cell_type": "code",
   "execution_count": null,
   "metadata": {},
   "outputs": [],
   "source": [
    "int dodaj(Stog *stog, int element) {\n",
    "\tcvor *pom = novicvor(element);\n",
    "\tif (pom == NULL)\n",
    "\t\treturn 0;\n",
    "\tpom->sljed = stog->vrh;\n",
    "\tstog->vrh = pom;\n",
    "\treturn 1;\n",
    "}"
   ]
  },
  {
   "cell_type": "code",
   "execution_count": null,
   "metadata": {},
   "outputs": [],
   "source": [
    "int skini(Stog *stog, int *element) {\n",
    "\tif (stog->vrh == NULL)\n",
    "\t\treturn 0;\n",
    "\tcvor *pom = stog->vrh;\n",
    "\tstog->vrh = pom->sljed;\n",
    "\t*element = pom->broj;\n",
    "\tfree(pom);\n",
    "\treturn 1;\n",
    "}"
   ]
  },
  {
   "cell_type": "code",
   "execution_count": null,
   "metadata": {},
   "outputs": [],
   "source": [
    "void print(Stog stog) {\n",
    "    cvor *glava = stog.vrh;\n",
    "    while (glava != NULL) {\n",
    "        cout << glava->broj << \" \";\n",
    "        glava = glava->sljed;\n",
    "    }\n",
    "}"
   ]
  },
  {
   "cell_type": "code",
   "execution_count": null,
   "metadata": {},
   "outputs": [],
   "source": [
    "Stog stog;"
   ]
  },
  {
   "cell_type": "code",
   "execution_count": null,
   "metadata": {},
   "outputs": [],
   "source": [
    "init(&stog);\n",
    "dodaj(&stog, 5);\n",
    "dodaj(&stog, 22);\n",
    "dodaj(&stog, 7);\n",
    "dodaj(&stog, 15);"
   ]
  },
  {
   "cell_type": "code",
   "execution_count": null,
   "metadata": {},
   "outputs": [],
   "source": [
    "print(stog);"
   ]
  },
  {
   "cell_type": "markdown",
   "metadata": {},
   "source": [
    "#### Zadatak 1.\n",
    "Napisati funkciju vraća element koji se nalazi na vrhu stoga."
   ]
  },
  {
   "cell_type": "code",
   "execution_count": null,
   "metadata": {},
   "outputs": [],
   "source": [
    "int peek(Stog *stog)\n",
    "{\n",
    "    \n",
    "}"
   ]
  },
  {
   "cell_type": "markdown",
   "metadata": {},
   "source": [
    "#### Zadatak 2.\n",
    "Napisati funkciju koja vraća zbroj elemenata u stogu."
   ]
  },
  {
   "cell_type": "code",
   "execution_count": null,
   "metadata": {},
   "outputs": [],
   "source": [
    "int zbroj(Stog *stog)\n",
    "{\n",
    "    \n",
    "}"
   ]
  },
  {
   "cell_type": "markdown",
   "metadata": {},
   "source": [
    "#### Zadatak 3.\n",
    "Napisati funkciju za brisanje stoga."
   ]
  },
  {
   "cell_type": "code",
   "execution_count": null,
   "metadata": {},
   "outputs": [],
   "source": [
    "int brisi(Stog *stog)\n",
    "{\n",
    "\n",
    "}"
   ]
  },
  {
   "cell_type": "code",
   "execution_count": null,
   "metadata": {},
   "outputs": [],
   "source": []
  }
 ],
 "metadata": {
  "kernelspec": {
   "display_name": "C++17",
   "language": "C++17",
   "name": "xcpp17"
  },
  "language_info": {
   "codemirror_mode": "text/x-c++src",
   "file_extension": ".cpp",
   "mimetype": "text/x-c++src",
   "name": "c++",
   "version": "-std=c++17"
  }
 },
 "nbformat": 4,
 "nbformat_minor": 2
}
