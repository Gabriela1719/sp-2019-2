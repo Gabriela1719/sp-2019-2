{
 "cells": [
  {
   "cell_type": "markdown",
   "metadata": {},
   "source": [
    "# Realizacija stoga poljem"
   ]
  },
  {
   "cell_type": "code",
   "execution_count": null,
   "metadata": {},
   "outputs": [],
   "source": [
    "#include <iostream>\n",
    "#include <stdio.h>\n",
    "#include <stdlib.h>\n",
    "#include <string.h>\n",
    "#include <math.h>\n",
    "using namespace std;"
   ]
  },
  {
   "cell_type": "code",
   "execution_count": 2,
   "metadata": {},
   "outputs": [],
   "source": [
    "#define MAXSTOG 5 /* maksimalna velicina stoga */\n",
    "\n",
    "typedef struct {\n",
    "\tint polje[MAXSTOG];\n",
    "\tint vrh;\n",
    "} Stog;"
   ]
  },
  {
   "cell_type": "code",
   "execution_count": 3,
   "metadata": {},
   "outputs": [],
   "source": [
    "int init(Stog *stog) {\n",
    "\tstog->vrh = -1;\n",
    "\treturn 1;\n",
    "}"
   ]
  },
  {
   "cell_type": "code",
   "execution_count": 4,
   "metadata": {},
   "outputs": [],
   "source": [
    "int dodaj(Stog *stog, int element) {\n",
    "    if (stog->vrh >= MAXSTOG - 1)\n",
    "\t\treturn 0;\n",
    "\tstog->vrh = stog->vrh + 1;\n",
    "\tstog->polje[stog->vrh] = element;\n",
    "\treturn 1;\n",
    "}"
   ]
  },
  {
   "cell_type": "code",
   "execution_count": 5,
   "metadata": {},
   "outputs": [],
   "source": [
    "int skini(Stog *stog, int *element) {\n",
    "\tif (stog->vrh < 0)\n",
    "\t\treturn 0;\n",
    "\t*element = stog->polje[stog->vrh];\n",
    "\tstog->vrh = stog->vrh - 1;\n",
    "\treturn 1;\n",
    "}"
   ]
  },
  {
   "cell_type": "code",
   "execution_count": 6,
   "metadata": {},
   "outputs": [],
   "source": [
    "void print(Stog stog) {\n",
    "    for(int i=stog.vrh; i>-1; i--)\n",
    "        cout << stog.polje[i] << \" \";\n",
    "}"
   ]
  },
  {
   "cell_type": "code",
   "execution_count": 7,
   "metadata": {},
   "outputs": [],
   "source": [
    "Stog stog;"
   ]
  },
  {
   "cell_type": "code",
   "execution_count": 10,
   "metadata": {},
   "outputs": [],
   "source": [
    "init(&stog);\n",
    "dodaj(&stog, 5);\n",
    "dodaj(&stog, 22);\n",
    "dodaj(&stog, 7);\n",
    "dodaj(&stog, 15);"
   ]
  },
  {
   "cell_type": "code",
   "execution_count": 11,
   "metadata": {},
   "outputs": [
    {
     "name": "stdout",
     "output_type": "stream",
     "text": [
      "15 7 22 5 "
     ]
    }
   ],
   "source": [
    "print(stog);"
   ]
  },
  {
   "cell_type": "markdown",
   "metadata": {},
   "source": [
    "#### Zadatak 1.\n",
    "Napisati funkciju vraća element koji se nalazi na vrhu stoga"
   ]
  },
  {
   "cell_type": "code",
   "execution_count": null,
   "metadata": {},
   "outputs": [],
   "source": [
    "int peek(Stog *stog)\n",
    "{\n",
    "    \n",
    "}"
   ]
  },
  {
   "cell_type": "markdown",
   "metadata": {},
   "source": [
    "#### Zadatak 2.\n",
    "Napisati funkciju koja vraća zbroj elemenata u stogu."
   ]
  },
  {
   "cell_type": "code",
   "execution_count": null,
   "metadata": {},
   "outputs": [],
   "source": [
    "int zbroj(Stog *stog)\n",
    "{\n",
    "    \n",
    "}"
   ]
  },
  {
   "cell_type": "markdown",
   "metadata": {},
   "source": [
    "#### Zadatak 3.\n",
    "Napisati funkciju za brisanje stoga."
   ]
  },
  {
   "cell_type": "code",
   "execution_count": null,
   "metadata": {},
   "outputs": [],
   "source": [
    "int brisi(Stog *stog)\n",
    "{\n",
    "\n",
    "}"
   ]
  },
  {
   "cell_type": "code",
   "execution_count": null,
   "metadata": {},
   "outputs": [],
   "source": []
  }
 ],
 "metadata": {
  "kernelspec": {
   "display_name": "C++17",
   "language": "C++17",
   "name": "xcpp17"
  },
  "language_info": {
   "codemirror_mode": "text/x-c++src",
   "file_extension": ".cpp",
   "mimetype": "text/x-c++src",
   "name": "c++",
   "version": "-std=c++17"
  }
 },
 "nbformat": 4,
 "nbformat_minor": 2
}
