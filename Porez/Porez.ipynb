{
 "cells": [
  {
   "cell_type": "code",
   "execution_count": null,
   "metadata": {},
   "outputs": [],
   "source": [
    "#include <iostream>\n",
    "#include <stdio.h>\n",
    "#include <stdlib.h>\n",
    "#include <string.h>\n",
    "#define MAX 1000\n",
    "using namespace std;"
   ]
  },
  {
   "cell_type": "code",
   "execution_count": null,
   "metadata": {},
   "outputs": [],
   "source": [
    "struct element {\n",
    "    char JMBG[13 + 1];\n",
    "    char Ime[20 + 1];\n",
    "    char Prezime[20 + 1];\n",
    "    float Prihod;\n",
    "    float PlatitiPorez;\n",
    "};\n",
    "\n",
    "typedef struct element zapis;\n",
    "\n",
    "FILE *f, *fb;\n",
    "zapis pom;\n",
    "int Br;"
   ]
  },
  {
   "cell_type": "code",
   "execution_count": null,
   "metadata": {},
   "outputs": [],
   "source": [
    "void print(zapis tmp){\n",
    "    cout << tmp.JMBG << \"\\t\" \n",
    "    << tmp.Ime << \"\\t\"\n",
    "    << tmp.Prezime << \"\\t\"\n",
    "    << tmp.Prihod << \"\\t\"\n",
    "    << tmp.PlatitiPorez << \"\\n\";\n",
    "}"
   ]
  },
  {
   "cell_type": "code",
   "execution_count": null,
   "metadata": {},
   "outputs": [],
   "source": [
    "void ispis(FILE *fb){\n",
    "    fseek(fb,0,SEEK_SET);\n",
    "    while(fread(&pom,sizeof(zapis),1,fb))\n",
    "        print(pom);\n",
    "}"
   ]
  },
  {
   "cell_type": "markdown",
   "metadata": {},
   "source": [
    "**Otvori datoteke:** \"podaci.txt\" i \"podaci.dat\""
   ]
  },
  {
   "cell_type": "code",
   "execution_count": null,
   "metadata": {},
   "outputs": [],
   "source": [
    "f = fopen(\"podaci.txt\", \"r+\");\n",
    "fb = fopen(\"podaci.dat\", \"wb+\");"
   ]
  },
  {
   "cell_type": "markdown",
   "metadata": {},
   "source": [
    "**Pročitaj prvi podatak**"
   ]
  },
  {
   "cell_type": "code",
   "execution_count": null,
   "metadata": {},
   "outputs": [],
   "source": [
    "// Pozicioniran se na početak\n",
    "fseek(f,0,SEEK_SET);\n",
    "\n",
    "// Broj podataka\n",
    "fscanf(f, \"%d\\n\", &Br);\n",
    "cout << \"Ukupno: \" << Br << \"\\n\";\n",
    "\n",
    "// Pročitaj prvi podatak\n",
    "fscanf(f,\"%s %s %s %f %f\",pom.JMBG, pom.Ime, pom.Prezime, &(pom.Prihod), &(pom.PlatitiPorez));\n",
    "\n",
    "// Ispis\n",
    "print(pom)"
   ]
  },
  {
   "cell_type": "markdown",
   "metadata": {},
   "source": [
    "**Prepiši podatke u neformatiranu datoteku:** \"podaci.dat\" "
   ]
  },
  {
   "cell_type": "code",
   "execution_count": null,
   "metadata": {},
   "outputs": [],
   "source": [
    "fseek(f,0,SEEK_SET);\n",
    "fseek(fb,0,SEEK_SET);\n",
    "fscanf(f, \"%d\\n\", &Br);\n",
    "while(fscanf(f,\"%s %s %s %f %f\",pom.JMBG, pom.Ime, pom.Prezime, &(pom.Prihod), &(pom.PlatitiPorez))!= EOF){\n",
    "    fwrite(&pom,sizeof(pom),1,fb);\n",
    "    // print(pom);\n",
    "}"
   ]
  },
  {
   "cell_type": "markdown",
   "metadata": {},
   "source": [
    "**Ispis neformatirane datoteke**"
   ]
  },
  {
   "cell_type": "code",
   "execution_count": null,
   "metadata": {},
   "outputs": [],
   "source": [
    "ispis(fb)"
   ]
  },
  {
   "cell_type": "markdown",
   "metadata": {},
   "source": [
    "# Zadaci"
   ]
  },
  {
   "cell_type": "markdown",
   "metadata": {},
   "source": [
    "## 1. Učitaj podatke u polje?"
   ]
  },
  {
   "cell_type": "code",
   "execution_count": null,
   "metadata": {},
   "outputs": [],
   "source": [
    "zapis *polje;"
   ]
  },
  {
   "cell_type": "code",
   "execution_count": null,
   "metadata": {},
   "outputs": [],
   "source": [
    "// Br - broj podataka\n",
    "\n",
    "// Ovdje napisati kod\n"
   ]
  },
  {
   "cell_type": "markdown",
   "metadata": {},
   "source": [
    "## 2. Pronaći korisnika koji treba platiti najviše poreza?"
   ]
  },
  {
   "cell_type": "code",
   "execution_count": null,
   "metadata": {},
   "outputs": [],
   "source": [
    "int i, MaxInd = 0;\n",
    "float Max;"
   ]
  },
  {
   "cell_type": "code",
   "execution_count": null,
   "metadata": {},
   "outputs": [],
   "source": [
    "// Ovdje napisati kod\n"
   ]
  }
 ],
 "metadata": {
  "kernelspec": {
   "display_name": "C++14",
   "language": "C++14",
   "name": "xcpp14"
  },
  "language_info": {
   "codemirror_mode": "text/x-c++src",
   "file_extension": ".cpp",
   "mimetype": "text/x-c++src",
   "name": "c++",
   "version": "-std=c++14"
  }
 },
 "nbformat": 4,
 "nbformat_minor": 2
}
