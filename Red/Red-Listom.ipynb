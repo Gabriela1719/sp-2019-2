{
 "cells": [
  {
   "cell_type": "markdown",
   "metadata": {},
   "source": [
    "# Realizacija reda listom"
   ]
  },
  {
   "cell_type": "code",
   "execution_count": null,
   "metadata": {},
   "outputs": [],
   "source": [
    "#include <iostream>\n",
    "#include <stdio.h>\n",
    "#include <stdlib.h>\n",
    "#include <string.h>\n",
    "#include <math.h>\n",
    "using namespace std;"
   ]
  },
  {
   "cell_type": "code",
   "execution_count": null,
   "metadata": {},
   "outputs": [],
   "source": [
    "typedef struct c {\n",
    "    int broj;\n",
    "    struct c *sljed;\n",
    "}cvor;\n",
    "\n",
    "typedef struct {\n",
    "    cvor *ulaz;\n",
    "    cvor *izlaz;\n",
    "}Red;"
   ]
  },
  {
   "cell_type": "code",
   "execution_count": null,
   "metadata": {},
   "outputs": [],
   "source": [
    "cvor *novicvor(int broj) {\n",
    "\tcvor *pom = (cvor *)malloc(sizeof(cvor));\n",
    "\tif (pom == NULL)\n",
    "\t\treturn NULL;\n",
    "\tpom->broj = broj;\n",
    "\tpom->sljed = 0;\n",
    "\treturn pom;\n",
    "}"
   ]
  },
  {
   "cell_type": "code",
   "execution_count": null,
   "metadata": {},
   "outputs": [],
   "source": [
    "int init(Red *red) {\n",
    "\tred->ulaz = NULL;\n",
    "\tred->izlaz = NULL;\n",
    "\treturn 1;\n",
    "}"
   ]
  },
  {
   "cell_type": "code",
   "execution_count": null,
   "metadata": {},
   "outputs": [],
   "source": [
    "int dodaj(Red *red, int element) {\n",
    "\tcvor *novi = novicvor(element);\n",
    "\tif (novi == NULL)\n",
    "\t\treturn 0;\n",
    "    if (red->izlaz == NULL)\n",
    "        red->izlaz = novi;\n",
    "    else\n",
    "        red->ulaz->sljed = novi;\n",
    "\tred->ulaz = novi;\n",
    "\treturn 1;\n",
    "}"
   ]
  },
  {
   "cell_type": "code",
   "execution_count": null,
   "metadata": {},
   "outputs": [],
   "source": [
    "int skini(Red *red, int *element) {\n",
    "\tif (red->izlaz == NULL)\n",
    "\t\treturn 0;\n",
    "    *element = red->izlaz->broj;\n",
    "    cvor *pom = red->izlaz;\n",
    "    red->izlaz = pom->sljed;\n",
    "\tfree(pom);\n",
    "    if(red->izlaz == NULL)\n",
    "        red->ulaz = NULL;\n",
    "\treturn 1;\n",
    "}"
   ]
  },
  {
   "cell_type": "code",
   "execution_count": null,
   "metadata": {},
   "outputs": [],
   "source": [
    "Red red;"
   ]
  },
  {
   "cell_type": "code",
   "execution_count": null,
   "metadata": {},
   "outputs": [],
   "source": [
    "init(&red);\n",
    "dodaj(&red, 5);\n",
    "dodaj(&red, 22);\n",
    "dodaj(&red, 7);\n",
    "dodaj(&red, 15);"
   ]
  },
  {
   "cell_type": "code",
   "execution_count": null,
   "metadata": {},
   "outputs": [],
   "source": [
    "cout << (red.izlaz)->broj;"
   ]
  },
  {
   "cell_type": "code",
   "execution_count": null,
   "metadata": {},
   "outputs": [],
   "source": [
    "{\n",
    "    int element;\n",
    "    int a = skini(&red, &element);\n",
    "    cout << a << \"\\n\";\n",
    "    cout << element << \"\\n\";\n",
    "}"
   ]
  },
  {
   "cell_type": "markdown",
   "metadata": {},
   "source": [
    "#### Zadatak 1.\n",
    "Napisati funkciju vraća element s početka reda (eng. peek)."
   ]
  },
  {
   "cell_type": "code",
   "execution_count": null,
   "metadata": {},
   "outputs": [],
   "source": [
    "int peek(Red *red)\n",
    "{\n",
    "    \n",
    "}"
   ]
  },
  {
   "cell_type": "markdown",
   "metadata": {},
   "source": [
    "#### Zadatak 2.\n",
    "Napisati funkciju koja prebrojava broj elemata u redu (eng size)."
   ]
  },
  {
   "cell_type": "code",
   "execution_count": null,
   "metadata": {},
   "outputs": [],
   "source": [
    "int broj_elemenata(Red *red)\n",
    "{\n",
    "    \n",
    "}"
   ]
  },
  {
   "cell_type": "markdown",
   "metadata": {},
   "source": [
    "#### Zadatak 3.\n",
    "Napisati funkciju za brisanje reda."
   ]
  },
  {
   "cell_type": "code",
   "execution_count": null,
   "metadata": {},
   "outputs": [],
   "source": [
    "int prazni(Red *stog)\n",
    "{\n",
    "\n",
    "}"
   ]
  },
  {
   "cell_type": "code",
   "execution_count": null,
   "metadata": {},
   "outputs": [],
   "source": []
  }
 ],
 "metadata": {
  "kernelspec": {
   "display_name": "C++17",
   "language": "C++17",
   "name": "xcpp17"
  },
  "language_info": {
   "codemirror_mode": "text/x-c++src",
   "file_extension": ".cpp",
   "mimetype": "text/x-c++src",
   "name": "c++",
   "version": "-std=c++17"
  }
 },
 "nbformat": 4,
 "nbformat_minor": 2
}
