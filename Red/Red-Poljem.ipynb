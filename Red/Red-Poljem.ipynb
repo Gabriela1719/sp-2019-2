{
 "cells": [
  {
   "cell_type": "markdown",
   "metadata": {},
   "source": [
    "# Realizacija reda poljem"
   ]
  },
  {
   "cell_type": "code",
   "execution_count": null,
   "metadata": {},
   "outputs": [],
   "source": [
    "#include <iostream>\n",
    "#include <stdio.h>\n",
    "#include <stdlib.h>\n",
    "#include <string.h>\n",
    "#include <math.h>\n",
    "using namespace std;"
   ]
  },
  {
   "cell_type": "code",
   "execution_count": null,
   "metadata": {},
   "outputs": [],
   "source": [
    "#define MAXRED 5\n",
    "\n",
    "typedef struct {\n",
    "\tint polje[MAXRED];\n",
    "\tint ulaz;\n",
    "\tint izlaz;\n",
    "} Red;"
   ]
  },
  {
   "cell_type": "code",
   "execution_count": null,
   "metadata": {},
   "outputs": [],
   "source": [
    "void init(Red *red) {\n",
    "\tred->ulaz = 0;\n",
    "\tred->izlaz = 0;\n",
    "}"
   ]
  },
  {
   "cell_type": "code",
   "execution_count": null,
   "metadata": {},
   "outputs": [],
   "source": [
    "int dodaj(Red *red, int element) {\n",
    "\tif ((red->ulaz +1)%MAXRED == red->izlaz)\n",
    "\t\treturn 0;\n",
    "\tred->ulaz = (red->ulaz + 1) % MAXRED;\n",
    "\tred->polje[red->ulaz] = element;\n",
    "\treturn 1;\n",
    "}"
   ]
  },
  {
   "cell_type": "code",
   "execution_count": null,
   "metadata": {},
   "outputs": [],
   "source": [
    "int skini(Red *red, int *element) {\n",
    "\tif (red->izlaz == red->ulaz)\n",
    "\t\treturn 0;\n",
    "\tred->izlaz = (red->izlaz + 1) % MAXRED;\n",
    "\t*element = red->polje[red->izlaz];\n",
    "\treturn 1;\n",
    "}"
   ]
  },
  {
   "cell_type": "code",
   "execution_count": null,
   "metadata": {},
   "outputs": [],
   "source": [
    "Red red;"
   ]
  },
  {
   "cell_type": "code",
   "execution_count": null,
   "metadata": {},
   "outputs": [],
   "source": [
    "init(&red);\n",
    "dodaj(&red, 5);\n",
    "dodaj(&red, 22);\n",
    "dodaj(&red, 7);\n",
    "dodaj(&red, 15);"
   ]
  },
  {
   "cell_type": "code",
   "execution_count": null,
   "metadata": {},
   "outputs": [],
   "source": [
    "cout << \"Ulaz: \" << red.ulaz << \"\\n\"\n",
    "<< \"Izlaz: \" << red.izlaz << \"\\n\";"
   ]
  },
  {
   "cell_type": "code",
   "execution_count": null,
   "metadata": {},
   "outputs": [],
   "source": [
    "{\n",
    "    int element;\n",
    "    skini(&red, &element);\n",
    "    cout << element;\n",
    "}"
   ]
  },
  {
   "cell_type": "markdown",
   "metadata": {},
   "source": [
    "#### Zadatak 1.\n",
    "Napisati funkciju vraća element s početka reda (eng. peek)."
   ]
  },
  {
   "cell_type": "code",
   "execution_count": null,
   "metadata": {},
   "outputs": [],
   "source": [
    "int peek(Red *red)\n",
    "{\n",
    "    \n",
    "}"
   ]
  },
  {
   "cell_type": "markdown",
   "metadata": {},
   "source": [
    "#### Zadatak 2.\n",
    "Napisati funkciju koja prebrojava broj elemata u redu (eng size)."
   ]
  },
  {
   "cell_type": "code",
   "execution_count": null,
   "metadata": {},
   "outputs": [],
   "source": [
    "int broj_elemenata(Red *stog)\n",
    "{\n",
    "    \n",
    "}"
   ]
  },
  {
   "cell_type": "markdown",
   "metadata": {},
   "source": [
    "#### Zadatak 3.\n",
    "Napisati funkciju za brisanje reda."
   ]
  },
  {
   "cell_type": "code",
   "execution_count": null,
   "metadata": {},
   "outputs": [],
   "source": [
    "int prazni(Red *stog)\n",
    "{\n",
    "\n",
    "}"
   ]
  },
  {
   "cell_type": "code",
   "execution_count": null,
   "metadata": {},
   "outputs": [],
   "source": []
  }
 ],
 "metadata": {
  "kernelspec": {
   "display_name": "C++17",
   "language": "C++17",
   "name": "xcpp17"
  },
  "language_info": {
   "codemirror_mode": "text/x-c++src",
   "file_extension": ".cpp",
   "mimetype": "text/x-c++src",
   "name": "c++",
   "version": "-std=c++17"
  }
 },
 "nbformat": 4,
 "nbformat_minor": 2
}
