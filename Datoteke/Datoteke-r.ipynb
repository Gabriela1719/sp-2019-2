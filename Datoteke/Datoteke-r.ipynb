{
 "cells": [
  {
   "cell_type": "code",
   "execution_count": 1,
   "metadata": {},
   "outputs": [],
   "source": [
    "#include <iostream>\n",
    "#include <stdio.h>\n",
    "#include <stdlib.h>\n",
    "#include <string.h>\n",
    "#define MAX 1000\n",
    "using namespace std;"
   ]
  },
  {
   "cell_type": "code",
   "execution_count": 2,
   "metadata": {},
   "outputs": [],
   "source": [
    "struct s {\n",
    "    int mbr;\n",
    "    char ime[20+1] = \"\";\n",
    "    char prezime[20+1] = \"\";\n",
    "    char datum[20+1] = \"\";\n",
    "};\n",
    "typedef struct s zapis;\n",
    "\n",
    "FILE *f, *fb;\n",
    "zapis pom;"
   ]
  },
  {
   "cell_type": "code",
   "execution_count": 3,
   "metadata": {},
   "outputs": [],
   "source": [
    "void format(FILE *f)\n",
    "{\n",
    "    zapis pom;\n",
    "    pom.mbr = 0;\n",
    "    fseek(f,0,SEEK_SET);\n",
    "\n",
    "    for(int i=0; i<MAX; i++)\n",
    "        fwrite(&pom,sizeof(pom),1,f);\n",
    "}"
   ]
  },
  {
   "cell_type": "code",
   "execution_count": 4,
   "metadata": {},
   "outputs": [],
   "source": [
    "void print(zapis tmp){\n",
    "    cout << tmp.mbr << \" \" << tmp.ime << \" \"<< tmp.prezime << \" \"<< tmp.datum << \"\\n\";\n",
    "}"
   ]
  },
  {
   "cell_type": "code",
   "execution_count": 5,
   "metadata": {},
   "outputs": [],
   "source": [
    "void print(int mbr){\n",
    "    zapis tmp;\n",
    "    fseek(fb, mbr * sizeof(zapis),SEEK_SET);\n",
    "    fread(&tmp,sizeof(zapis),1,fb);\n",
    "    print(tmp);\n",
    "}"
   ]
  },
  {
   "cell_type": "code",
   "execution_count": 6,
   "metadata": {},
   "outputs": [],
   "source": [
    "void ispis(FILE *fb)\n",
    "{\n",
    "    for(int i=0; i<MAX; i++){\n",
    "        fseek(fb, i * sizeof(zapis),SEEK_SET);\n",
    "        fread(&pom,sizeof(zapis),1,fb);\n",
    "        if(pom.mbr > 0)\n",
    "            print(pom);\n",
    "    }\n",
    "}"
   ]
  },
  {
   "cell_type": "markdown",
   "metadata": {},
   "source": [
    "**Otvori datoteke**"
   ]
  },
  {
   "cell_type": "code",
   "execution_count": 7,
   "metadata": {},
   "outputs": [],
   "source": [
    "f = fopen(\"ulaz.txt\", \"r+\");\n",
    "fb = fopen(\"izlaz.dat\", \"wb+\");"
   ]
  },
  {
   "cell_type": "markdown",
   "metadata": {},
   "source": [
    "**Formatiraj datoteku** \"izlaz.dat\""
   ]
  },
  {
   "cell_type": "code",
   "execution_count": 8,
   "metadata": {},
   "outputs": [],
   "source": [
    "format(fb);"
   ]
  },
  {
   "cell_type": "markdown",
   "metadata": {},
   "source": [
    "**Ispis**"
   ]
  },
  {
   "cell_type": "code",
   "execution_count": 9,
   "metadata": {},
   "outputs": [],
   "source": [
    "ispis(fb)"
   ]
  },
  {
   "cell_type": "markdown",
   "metadata": {},
   "source": [
    "**Prebaci podatke u ne formatiranu datoteku:**  \"izlaz.dat\""
   ]
  },
  {
   "cell_type": "code",
   "execution_count": 10,
   "metadata": {},
   "outputs": [],
   "source": [
    "fseek(f,0,SEEK_SET);\n",
    "while(fscanf(f,\"%d%s%s%s\",&pom.mbr, pom.ime, pom.prezime, pom.datum) != EOF){\n",
    "    fseek(fb,pom.mbr * sizeof(pom),SEEK_SET);\n",
    "    fwrite(&pom,sizeof(pom),1,fb);\n",
    "    // print(pom);\n",
    "}"
   ]
  },
  {
   "cell_type": "markdown",
   "metadata": {},
   "source": [
    "**izlaz.dat**"
   ]
  },
  {
   "cell_type": "code",
   "execution_count": 11,
   "metadata": {},
   "outputs": [
    {
     "name": "stdout",
     "output_type": "stream",
     "text": [
      "101 Davor Vurnek 17.06.1987\n",
      "104 Stipe Pugelnik 03.05.1987\n",
      "115 Franjo Zdilar 22.01.1986\n",
      "205 Zoran Habajec 09.12.1987\n",
      "412 Davor Voras 11.06.1988\n",
      "471 Nina Suhina 08.06.1988\n",
      "551 Zvonimir Ozimec 24.02.1989\n",
      "952 Nikolina Medvedec 15.05.1989\n"
     ]
    }
   ],
   "source": [
    "ispis(fb)"
   ]
  },
  {
   "cell_type": "markdown",
   "metadata": {},
   "source": [
    "# Zadaci"
   ]
  },
  {
   "cell_type": "markdown",
   "metadata": {},
   "source": [
    "## 1. Izračunaj broj zapisa u ne formatiranoj datoteci \"izlaz.dat\""
   ]
  },
  {
   "cell_type": "code",
   "execution_count": 12,
   "metadata": {},
   "outputs": [],
   "source": [
    "int br;"
   ]
  },
  {
   "cell_type": "code",
   "execution_count": 13,
   "metadata": {},
   "outputs": [
    {
     "name": "stdout",
     "output_type": "stream",
     "text": [
      "Broj zapisa je: 8"
     ]
    },
    {
     "data": {
      "text/plain": [
       "@0x10c78aff0"
      ]
     },
     "execution_count": 13,
     "metadata": {},
     "output_type": "execute_result"
    }
   ],
   "source": [
    "br = 0;\n",
    "fseek(fb,0,SEEK_SET);\n",
    "while(fread(&pom, sizeof(zapis),1 , fb)>0)\n",
    "    if(pom.mbr>0)\n",
    "        br++;\n",
    "cout << \"Broj zapisa je: \" << br"
   ]
  },
  {
   "cell_type": "markdown",
   "metadata": {},
   "source": [
    "## 2. Izbrisati zapis sa zadanim matičnim brojem iz neformatirene datoteke \"izlaz.dat\""
   ]
  },
  {
   "cell_type": "code",
   "execution_count": 14,
   "metadata": {},
   "outputs": [],
   "source": [
    "int mbr;\n",
    "zapis tmp;"
   ]
  },
  {
   "cell_type": "code",
   "execution_count": 15,
   "metadata": {},
   "outputs": [
    {
     "name": "stdout",
     "output_type": "stream",
     "text": [
      "Brišem: 952 Nikolina Medvedec 15.05.1989\n",
      "Ispis\n",
      "101 Davor Vurnek 17.06.1987\n",
      "104 Stipe Pugelnik 03.05.1987\n",
      "115 Franjo Zdilar 22.01.1986\n",
      "205 Zoran Habajec 09.12.1987\n",
      "412 Davor Voras 11.06.1988\n",
      "471 Nina Suhina 08.06.1988\n",
      "551 Zvonimir Ozimec 24.02.1989\n"
     ]
    }
   ],
   "source": [
    "mbr = 952;\n",
    "fseek(fb, mbr * sizeof(zapis), SEEK_SET);\n",
    "fread(&pom, sizeof(zapis),1,fb);\n",
    "if(pom.mbr > 0){\n",
    "    cout << \"Brišem: \";\n",
    "    print(pom);\n",
    "    // Brišem zapisa\n",
    "    tmp.mbr = 0;\n",
    "    // Vrati se jednu poziciju nazad\n",
    "    fseek(fb, -sizeof(zapis), SEEK_CUR);\n",
    "    fwrite(&tmp, sizeof(zapis), 1, fb);\n",
    "}\n",
    "cout << \"Ispis\\n\";\n",
    "ispis(fb);"
   ]
  }
 ],
 "metadata": {
  "kernelspec": {
   "display_name": "C++14",
   "language": "C++14",
   "name": "xcpp14"
  },
  "language_info": {
   "codemirror_mode": "text/x-c++src",
   "file_extension": ".cpp",
   "mimetype": "text/x-c++src",
   "name": "c++",
   "version": "-std=c++14"
  }
 },
 "nbformat": 4,
 "nbformat_minor": 2
}
