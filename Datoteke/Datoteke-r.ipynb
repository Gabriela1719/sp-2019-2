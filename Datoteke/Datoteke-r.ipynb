{
 "cells": [
  {
   "cell_type": "code",
   "execution_count": null,
   "metadata": {},
   "outputs": [],
   "source": [
    "#include <iostream>\n",
    "#include <stdio.h>\n",
    "#include <stdlib.h>\n",
    "#include <string.h>\n",
    "#define MAX 1000\n",
    "using namespace std;"
   ]
  },
  {
   "cell_type": "code",
   "execution_count": null,
   "metadata": {},
   "outputs": [],
   "source": [
    "struct s {\n",
    "    int mbr;\n",
    "    char ime[20+1] = \"\";\n",
    "    char prezime[20+1] = \"\";\n",
    "    char datum[20+1] = \"\";\n",
    "};\n",
    "typedef struct s zapis;\n",
    "\n",
    "FILE *f, *fb;\n",
    "zapis pom;"
   ]
  },
  {
   "cell_type": "code",
   "execution_count": null,
   "metadata": {},
   "outputs": [],
   "source": [
    "void format(FILE *f)\n",
    "{\n",
    "    zapis pom;\n",
    "    pom.mbr = 0;\n",
    "    fseek(f,0,SEEK_SET);\n",
    "\n",
    "    for(int i=0; i<MAX; i++)\n",
    "        fwrite(&pom,sizeof(pom),1,f);\n",
    "}"
   ]
  },
  {
   "cell_type": "code",
   "execution_count": null,
   "metadata": {},
   "outputs": [],
   "source": [
    "void print(zapis tmp){\n",
    "    cout << tmp.mbr << \" \" << tmp.ime << \" \"<< tmp.prezime << \" \"<< tmp.datum << \"\\n\";\n",
    "}"
   ]
  },
  {
   "cell_type": "code",
   "execution_count": null,
   "metadata": {},
   "outputs": [],
   "source": [
    "void print(int mbr){\n",
    "    zapis tmp;\n",
    "    fseek(fb, mbr * sizeof(zapis),SEEK_SET);\n",
    "    fread(&tmp,sizeof(zapis),1,fb);\n",
    "    print(tmp);\n",
    "}"
   ]
  },
  {
   "cell_type": "code",
   "execution_count": null,
   "metadata": {},
   "outputs": [],
   "source": [
    "void ispis(FILE *fb)\n",
    "{\n",
    "    for(int i=0; i<MAX; i++){\n",
    "        fseek(fb, i * sizeof(zapis),SEEK_SET);\n",
    "        fread(&pom,sizeof(zapis),1,fb);\n",
    "        if(pom.mbr > 0)\n",
    "            print(pom);\n",
    "    }\n",
    "}"
   ]
  },
  {
   "cell_type": "markdown",
   "metadata": {},
   "source": [
    "**Otvori datoteke**"
   ]
  },
  {
   "cell_type": "code",
   "execution_count": null,
   "metadata": {},
   "outputs": [],
   "source": [
    "f = fopen(\"ulaz.txt\", \"r+\");\n",
    "fb = fopen(\"izlaz.dat\", \"wb+\");"
   ]
  },
  {
   "cell_type": "markdown",
   "metadata": {},
   "source": [
    "**Formatiraj datoteku** \"izlaz.dat\""
   ]
  },
  {
   "cell_type": "code",
   "execution_count": null,
   "metadata": {},
   "outputs": [],
   "source": [
    "format(fb);"
   ]
  },
  {
   "cell_type": "markdown",
   "metadata": {},
   "source": [
    "**Ispis**"
   ]
  },
  {
   "cell_type": "code",
   "execution_count": null,
   "metadata": {},
   "outputs": [],
   "source": [
    "ispis(fb)"
   ]
  },
  {
   "cell_type": "markdown",
   "metadata": {},
   "source": [
    "**Prebaci podatke u ne formatiranu datoteku:**  \"izlaz.dat\""
   ]
  },
  {
   "cell_type": "code",
   "execution_count": null,
   "metadata": {},
   "outputs": [],
   "source": [
    "fseek(f,0,SEEK_SET);\n",
    "while(fscanf(f,\"%d%s%s%s\",&pom.mbr, pom.ime, pom.prezime, pom.datum) != EOF){\n",
    "    fseek(fb,pom.mbr * sizeof(pom),SEEK_SET);\n",
    "    fwrite(&pom,sizeof(pom),1,fb);\n",
    "    // print(pom);\n",
    "}"
   ]
  },
  {
   "cell_type": "markdown",
   "metadata": {},
   "source": [
    "**izlaz.dat**"
   ]
  },
  {
   "cell_type": "code",
   "execution_count": null,
   "metadata": {},
   "outputs": [],
   "source": [
    "ispis(fb)"
   ]
  },
  {
   "cell_type": "markdown",
   "metadata": {},
   "source": [
    "# Zadaci"
   ]
  },
  {
   "cell_type": "markdown",
   "metadata": {},
   "source": [
    "## 1. Izračunaj broj zapisa u ne formatiranoj datoteci \"izlaz.dat\""
   ]
  },
  {
   "cell_type": "code",
   "execution_count": null,
   "metadata": {},
   "outputs": [],
   "source": [
    "int br;"
   ]
  },
  {
   "cell_type": "code",
   "execution_count": null,
   "metadata": {},
   "outputs": [],
   "source": [
    "br = 0;\n",
    "fseek(fb,0,SEEK_SET);\n",
    "while(fread(&pom, sizeof(zapis),1 , fb)>0)\n",
    "    if(pom.mbr>0)\n",
    "        br++;\n",
    "cout << \"Broj zapisa je: \" << br"
   ]
  },
  {
   "cell_type": "markdown",
   "metadata": {},
   "source": [
    "## 2. Izbrisati zapis sa zadanim matičnim brojem iz neformatirene datoteke \"izlaz.dat\""
   ]
  },
  {
   "cell_type": "code",
   "execution_count": null,
   "metadata": {},
   "outputs": [],
   "source": [
    "int mbr;\n",
    "zapis tmp;"
   ]
  },
  {
   "cell_type": "code",
   "execution_count": null,
   "metadata": {},
   "outputs": [],
   "source": [
    "mbr = 952;\n",
    "fseek(fb, mbr * sizeof(zapis), SEEK_SET);\n",
    "fread(&pom, sizeof(zapis),1,fb);\n",
    "if(pom.mbr > 0){\n",
    "    cout << \"Brišem: \";\n",
    "    print(pom);\n",
    "    // Brišem zapisa\n",
    "    tmp.mbr = 0;\n",
    "    // Vrati se jednu poziciju nazad\n",
    "    fseek(fb, -sizeof(zapis), SEEK_CUR);\n",
    "    fwrite(&tmp, sizeof(zapis), 1, fb);\n",
    "}\n",
    "cout << \"Ispis\\n\";\n",
    "ispis(fb);"
   ]
  },
  {
   "cell_type": "code",
   "execution_count": null,
   "metadata": {},
   "outputs": [],
   "source": []
  }
 ],
 "metadata": {
  "kernelspec": {
   "display_name": "C++14",
   "language": "C++14",
   "name": "xcpp14"
  },
  "language_info": {
   "codemirror_mode": "text/x-c++src",
   "file_extension": ".cpp",
   "mimetype": "text/x-c++src",
   "name": "c++",
   "version": "-std=c++14"
  }
 },
 "nbformat": 4,
 "nbformat_minor": 2
}
