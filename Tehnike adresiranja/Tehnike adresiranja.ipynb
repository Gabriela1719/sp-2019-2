{
 "cells": [
  {
   "cell_type": "code",
   "execution_count": null,
   "metadata": {},
   "outputs": [],
   "source": [
    "#include <iostream>\n",
    "#include <stdio.h>\n",
    "#include <stdlib.h>\n",
    "#include <string.h>\n",
    "#include <math.h>\n",
    "using namespace std;"
   ]
  },
  {
   "cell_type": "code",
   "execution_count": null,
   "metadata": {},
   "outputs": [],
   "source": [
    "struct s {\n",
    "    int pbr;\n",
    "    char mjesto[50+1] = \"\";\n",
    "    char opcina[50+1] = \"\";\n",
    "};\n",
    "typedef struct s zapis;\n",
    "\n",
    "FILE *f, *fb;\n",
    "zapis pom;\n",
    "int br, F;\n",
    "int BLOK; "
   ]
  },
  {
   "cell_type": "code",
   "execution_count": null,
   "metadata": {},
   "outputs": [],
   "source": [
    "void print(zapis tmp){\n",
    "    cout \n",
    "        << tmp.pbr << \"-\"\n",
    "        << tmp.mjesto << \"-\"\n",
    "        << tmp.opcina << \"\\n\";\n",
    "}"
   ]
  },
  {
   "cell_type": "markdown",
   "metadata": {},
   "source": [
    "**Otvori datoteke:**"
   ]
  },
  {
   "cell_type": "code",
   "execution_count": null,
   "metadata": {},
   "outputs": [],
   "source": [
    "f = fopen(\"mjesta.txt\", \"r+\");\n",
    "fb = fopen(\"mjesta.dat\", \"wb+\");"
   ]
  },
  {
   "cell_type": "markdown",
   "metadata": {},
   "source": [
    "**Prebaci podatke u neformatiranu datoteku  \"mjesta.dat\"**"
   ]
  },
  {
   "cell_type": "code",
   "execution_count": null,
   "metadata": {},
   "outputs": [],
   "source": [
    "// Početak datoteke\n",
    "fseek(f,0,SEEK_SET);\n",
    "fseek(fb,0,SEEK_SET);\n",
    "\n",
    "// Prebaci podatke\n",
    "F = 0;\n",
    "while(fscanf(f,\"%[^,],%d,%[^\\n] \",pom.mjesto, &pom.pbr, pom.opcina) != EOF){\n",
    "    fwrite(&pom,sizeof(zapis),1,fb);\n",
    "    F++;\n",
    "    // print(pom);\n",
    "}\n",
    "cout << \"Ukupno: \" << F << \" zapisa\""
   ]
  },
  {
   "cell_type": "markdown",
   "metadata": {},
   "source": [
    "##  Čitanje po blokovima"
   ]
  },
  {
   "cell_type": "code",
   "execution_count": null,
   "metadata": {},
   "outputs": [],
   "source": [
    "BLOK = 60;\n",
    "cout <<\"Zapisa: \"<< F;\n",
    "cout <<\"\\nBlokova: \" << ceil((float)F/BLOK);\n",
    "cout <<\"\\nBlok: \" << BLOK;"
   ]
  },
  {
   "cell_type": "markdown",
   "metadata": {},
   "source": [
    "**1. Pročitaj prvi zapis**"
   ]
  },
  {
   "cell_type": "code",
   "execution_count": null,
   "metadata": {},
   "outputs": [],
   "source": [
    "// Ovdje napisati kod"
   ]
  },
  {
   "cell_type": "markdown",
   "metadata": {},
   "source": [
    "**2. Odrediti broj zapisa i veličinu datoteke za \"mjesta.txt\", odnosno \"mjesta.dat\"?**\n",
    "\n",
    "- Brojanjem zapisa\n",
    "- „jednom naredbom”"
   ]
  },
  {
   "cell_type": "code",
   "execution_count": null,
   "metadata": {},
   "outputs": [],
   "source": [
    "// Ovdje napisati kod"
   ]
  },
  {
   "cell_type": "markdown",
   "metadata": {},
   "source": [
    "**3. Kreirati tablicu indeks koja će pokazivati na vodeće zapise blokova u „mjesta.dat”**\n",
    "* Poljem indeks u radnoj memoriji\n",
    "* Datotekom „indeks.idx” na čvrstom disku"
   ]
  },
  {
   "cell_type": "code",
   "execution_count": null,
   "metadata": {},
   "outputs": [],
   "source": [
    "long *indeks;\n",
    "int broj_blokova;"
   ]
  },
  {
   "cell_type": "code",
   "execution_count": null,
   "metadata": {},
   "outputs": [],
   "source": [
    "// Ovdje napisati kod"
   ]
  },
  {
   "cell_type": "markdown",
   "metadata": {},
   "source": [
    "**Ispis**"
   ]
  },
  {
   "cell_type": "code",
   "execution_count": null,
   "metadata": {},
   "outputs": [],
   "source": [
    "for(int i=0; i<broj_blokova; i++){\n",
    "    fseek(fb,indeks[i],SEEK_SET);\n",
    "    fread(&pom,sizeof(zapis),1,fb);\n",
    "    cout << i+1 << \" \";\n",
    "    print(pom);\n",
    "}"
   ]
  },
  {
   "cell_type": "markdown",
   "metadata": {},
   "source": [
    "**4. Pronađi zapis**"
   ]
  },
  {
   "cell_type": "code",
   "execution_count": null,
   "metadata": {},
   "outputs": [],
   "source": [
    "bool pronadjen = false;\n",
    "char naziv[] = \"Malinska\";\n",
    "int i;"
   ]
  },
  {
   "cell_type": "code",
   "execution_count": null,
   "metadata": {},
   "outputs": [],
   "source": [
    "br = 0;\n",
    "pronadjen = false;\n",
    "\n",
    "// Traženi\n",
    "strcpy(naziv,\"Barlete\");\n",
    "\n",
    "// Vrati se na početak\n",
    "fseek(fb,0,SEEK_SET);\n",
    "\n",
    "// Čitaj samo vodeće zapise\n",
    "while(fread(&pom, sizeof(zapis),1 , fb)){\n",
    "    \n",
    "    // Ovdje napsiati kod\n",
    "}\n",
    "\n",
    "if(pronadjen == 0){\n",
    "    // Vrati se jedan blok unatrag\n",
    "    i=0;\n",
    "    br -= 1;\n",
    "    cout << \"\\nPronađen blok: \" << br;\n",
    "    \n",
    "    // Ovdje napisati kod\n",
    "    \n",
    "    if(pronadjen == false)\n",
    "        cout << \"\\nPodatak nije pronađen\";\n",
    "}"
   ]
  },
  {
   "cell_type": "markdown",
   "metadata": {},
   "source": [
    "**5. Ulazne podatke primjera za binarno pretraživanje prepisati u odgovarajuću datoteku pa ih binarno pretražiti.**"
   ]
  },
  {
   "cell_type": "code",
   "execution_count": null,
   "metadata": {},
   "outputs": [],
   "source": [
    "FILE *ff, *ffb;\n",
    "int br;\n",
    "int poc, kraj, sredina;\n",
    "int trazeni;\n",
    "bool pronadjen = false;"
   ]
  },
  {
   "cell_type": "code",
   "execution_count": null,
   "metadata": {},
   "outputs": [],
   "source": [
    "ff = fopen(\"brojevi.txt\", \"r\");\n",
    "ffb = fopen(\"brojevi.dat\", \"w+\");"
   ]
  },
  {
   "cell_type": "markdown",
   "metadata": {},
   "source": [
    "**Prepiši podatke**"
   ]
  },
  {
   "cell_type": "code",
   "execution_count": null,
   "metadata": {},
   "outputs": [],
   "source": [
    "fseek(ff,0,SEEK_SET);\n",
    "fseek(ffb,0,SEEK_SET);\n",
    "while(fscanf(ff,\"%d\",&br)!=EOF){\n",
    "    fwrite(&br,sizeof(int),1,ffb);\n",
    "    cout << br << \" \";\n",
    "}"
   ]
  },
  {
   "cell_type": "code",
   "execution_count": null,
   "metadata": {},
   "outputs": [],
   "source": [
    "trazeni = 25;\n",
    "pronadjen = false;\n",
    "fseek(ffb,0,SEEK_END);\n",
    "poc = 0;\n",
    "kraj = ftell(ffb)/sizeof(int);\n",
    "\n",
    "// Ovdje napisati kod\n",
    "\n",
    "if (pronadjen == false)\n",
    "    cout << \"\\nNije pronađen!\";\n",
    "else\n",
    "    cout << \"\\nPronađen!\";"
   ]
  }
 ],
 "metadata": {
  "kernelspec": {
   "display_name": "C++14",
   "language": "C++14",
   "name": "xcpp14"
  },
  "language_info": {
   "codemirror_mode": "text/x-c++src",
   "file_extension": ".cpp",
   "mimetype": "text/x-c++src",
   "name": "c++",
   "version": "-std=c++14"
  }
 },
 "nbformat": 4,
 "nbformat_minor": 2
}
