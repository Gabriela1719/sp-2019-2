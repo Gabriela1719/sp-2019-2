{
 "cells": [
  {
   "cell_type": "code",
   "execution_count": null,
   "metadata": {},
   "outputs": [],
   "source": [
    "#include <iostream>\n",
    "#include <stdio.h>\n",
    "#include <stdlib.h>\n",
    "#include <string.h>\n",
    "#include <math.h>\n",
    "using namespace std;"
   ]
  },
  {
   "cell_type": "code",
   "execution_count": null,
   "metadata": {},
   "outputs": [],
   "source": [
    "struct s {\n",
    "    int pbr;\n",
    "    char mjesto[50+1] = \"\";\n",
    "    char opcina[50+1] = \"\";\n",
    "};\n",
    "typedef struct s zapis;\n",
    "\n",
    "FILE *f, *fb;\n",
    "zapis pom;\n",
    "int br, F;\n",
    "int BLOK; "
   ]
  },
  {
   "cell_type": "code",
   "execution_count": null,
   "metadata": {},
   "outputs": [],
   "source": [
    "void print(zapis tmp){\n",
    "    cout << \"\\n\"\n",
    "        << tmp.pbr << \"-\"\n",
    "        << tmp.mjesto << \"-\"\n",
    "        << tmp.opcina;\n",
    "}"
   ]
  },
  {
   "cell_type": "markdown",
   "metadata": {},
   "source": [
    "**Otvori datoteke:**"
   ]
  },
  {
   "cell_type": "code",
   "execution_count": null,
   "metadata": {},
   "outputs": [],
   "source": [
    "f = fopen(\"mjesta.txt\", \"r+\");\n",
    "fb = fopen(\"mjesta.dat\", \"wb+\");"
   ]
  },
  {
   "cell_type": "markdown",
   "metadata": {},
   "source": [
    "**Prebaci podatke u neformatiranu datoteku  \"mjesta.dat\"**"
   ]
  },
  {
   "cell_type": "code",
   "execution_count": null,
   "metadata": {},
   "outputs": [],
   "source": [
    "// Početak datoteke\n",
    "fseek(f,0,SEEK_SET);\n",
    "fseek(fb,0,SEEK_SET);\n",
    "\n",
    "// Prebaci podatke\n",
    "F = 0;\n",
    "while(fscanf(f,\"%[^,],%d,%[^\\n] \",pom.mjesto, &pom.pbr, pom.opcina) != EOF){\n",
    "    fwrite(&pom,sizeof(zapis),1,fb);\n",
    "    F++;\n",
    "    // print(pom);\n",
    "}\n",
    "cout << \"Ukupno: \" << F << \" zapisa\""
   ]
  },
  {
   "cell_type": "markdown",
   "metadata": {},
   "source": [
    "##  Čitanje po blokovima"
   ]
  },
  {
   "cell_type": "code",
   "execution_count": null,
   "metadata": {},
   "outputs": [],
   "source": [
    "BLOK = 60;\n",
    "cout <<\"Zapisa: \"<< F;\n",
    "cout <<\"\\nBlokova: \" << ceil((float)F/BLOK);\n",
    "cout <<\"\\nBlok: \" << BLOK;"
   ]
  },
  {
   "cell_type": "markdown",
   "metadata": {},
   "source": [
    "**1. Pročitaj vodeći zapis**"
   ]
  },
  {
   "cell_type": "code",
   "execution_count": null,
   "metadata": {},
   "outputs": [],
   "source": [
    "// Ovdje napisati kod"
   ]
  },
  {
   "cell_type": "markdown",
   "metadata": {},
   "source": [
    "**2. Pronađi zapis**"
   ]
  },
  {
   "cell_type": "code",
   "execution_count": null,
   "metadata": {},
   "outputs": [],
   "source": [
    "bool pronadjen = false;\n",
    "char naziv[] = \"Malinska\";\n",
    "int i;"
   ]
  },
  {
   "cell_type": "code",
   "execution_count": null,
   "metadata": {},
   "outputs": [],
   "source": [
    "br = 0;\n",
    "pronadjen = false;\n",
    "\n",
    "// Traženi\n",
    "strcpy(naziv,\"Barlete\");\n",
    "\n",
    "// Vrati se na početak\n",
    "fseek(fb,0,SEEK_SET);\n",
    "\n",
    "// Čitaj samo vodeće zapise\n",
    "while(fread(&pom, sizeof(zapis),1 , fb)){\n",
    "    \n",
    "    // Ovdje napsiati kod\n",
    "}\n",
    "\n",
    "if(pronadjen == 0){\n",
    "    // Vrati se jedan blok unatrag\n",
    "    i=0;\n",
    "    br -= 1;\n",
    "    cout << \"\\nPronađen blok: \" << br;\n",
    "    \n",
    "    // Ovdje napisati kod\n",
    "    \n",
    "    if(pronadjen == false)\n",
    "        cout << \"\\nPodatak nije pronađen\";\n",
    "}"
   ]
  }
 ],
 "metadata": {
  "kernelspec": {
   "display_name": "C++14",
   "language": "C++14",
   "name": "xcpp14"
  },
  "language_info": {
   "codemirror_mode": "text/x-c++src",
   "file_extension": ".cpp",
   "mimetype": "text/x-c++src",
   "name": "c++",
   "version": "-std=c++14"
  }
 },
 "nbformat": 4,
 "nbformat_minor": 2
}
